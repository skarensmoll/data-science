{
 "cells": [
  {
   "cell_type": "code",
   "execution_count": 1,
   "id": "74bf0ab2",
   "metadata": {},
   "outputs": [],
   "source": [
    "import pandas as pd\n",
    "from datetime import date"
   ]
  },
  {
   "cell_type": "code",
   "execution_count": 2,
   "id": "00ae3ad1",
   "metadata": {},
   "outputs": [],
   "source": [
    "X_train = pd.read_csv('./Regis_X_train.csv')\n",
    "X_test = pd.read_csv('./Regis_X_test.csv')"
   ]
  },
  {
   "cell_type": "code",
   "execution_count": 3,
   "id": "86481b56",
   "metadata": {},
   "outputs": [
    {
     "name": "stdout",
     "output_type": "stream",
     "text": [
      "<class 'pandas.core.frame.DataFrame'>\n",
      "RangeIndex: 939210 entries, 0 to 939209\n",
      "Data columns (total 28 columns):\n",
      " #   Column                                     Non-Null Count   Dtype  \n",
      "---  ------                                     --------------   -----  \n",
      " 0   ORDER_DATE                                 939210 non-null  object \n",
      " 1   CUSTOMER_ID                                939210 non-null  int64  \n",
      " 2   SHOP                                       939210 non-null  object \n",
      " 3   CART_VALUE                                 939210 non-null  float64\n",
      " 4   NR_ITEMS                                   939210 non-null  float64\n",
      " 5   NR_ITEMS_UNIQUE                            939210 non-null  float64\n",
      " 6   GENDER                                     939210 non-null  object \n",
      " 7   AGE                                        939210 non-null  float64\n",
      " 8   STREET                                     939210 non-null  object \n",
      " 9   ZIP                                        939210 non-null  int64  \n",
      " 10  CITY                                       939210 non-null  object \n",
      " 11  STREET_ID                                  939210 non-null  float64\n",
      " 12  CANCELLED                                  939210 non-null  float64\n",
      " 13  CLOSED                                     939210 non-null  float64\n",
      " 14  CREATED                                    939210 non-null  float64\n",
      " 15  DUNNING_1                                  939210 non-null  float64\n",
      " 16  DUNNING_2                                  939210 non-null  float64\n",
      " 17  DUNNING_3                                  939210 non-null  float64\n",
      " 18  DUNNING_4                                  939210 non-null  float64\n",
      " 19  DUNNING_5                                  939210 non-null  float64\n",
      " 20  INKASSO_CLOSED                             939210 non-null  float64\n",
      " 21  INKASSO_PENDING                            939210 non-null  float64\n",
      " 22  PAID_FULL                                  939210 non-null  float64\n",
      " 23  PAID_OVER                                  939210 non-null  float64\n",
      " 24  REMINDER_1                                 939210 non-null  float64\n",
      " 25  REMINDER_2                                 939210 non-null  float64\n",
      " 26  TRANSACTION_CREDIT_COLLECTION_IN_PROGRESS  939210 non-null  float64\n",
      " 27  TARGET                                     939210 non-null  int64  \n",
      "dtypes: float64(20), int64(3), object(5)\n",
      "memory usage: 200.6+ MB\n"
     ]
    }
   ],
   "source": [
    "X_train.info()"
   ]
  },
  {
   "cell_type": "markdown",
   "id": "c9d651ab",
   "metadata": {},
   "source": [
    "### historical data"
   ]
  },
  {
   "cell_type": "code",
   "execution_count": 4,
   "id": "a086fb16",
   "metadata": {},
   "outputs": [
    {
     "data": {
      "text/html": [
       "<div>\n",
       "<style scoped>\n",
       "    .dataframe tbody tr th:only-of-type {\n",
       "        vertical-align: middle;\n",
       "    }\n",
       "\n",
       "    .dataframe tbody tr th {\n",
       "        vertical-align: top;\n",
       "    }\n",
       "\n",
       "    .dataframe thead th {\n",
       "        text-align: right;\n",
       "    }\n",
       "</style>\n",
       "<table border=\"1\" class=\"dataframe\">\n",
       "  <thead>\n",
       "    <tr style=\"text-align: right;\">\n",
       "      <th></th>\n",
       "      <th>CART_VALUE</th>\n",
       "      <th>NR_ITEMS</th>\n",
       "      <th>CREATED</th>\n",
       "      <th>DUNNING_1</th>\n",
       "      <th>DUNNING_2</th>\n",
       "      <th>DUNNING_3</th>\n",
       "      <th>DUNNING_5</th>\n",
       "    </tr>\n",
       "  </thead>\n",
       "  <tbody>\n",
       "    <tr>\n",
       "      <th>0</th>\n",
       "      <td>25.94</td>\n",
       "      <td>1.0</td>\n",
       "      <td>0.0</td>\n",
       "      <td>0.0</td>\n",
       "      <td>0.0</td>\n",
       "      <td>0.0</td>\n",
       "      <td>0.0</td>\n",
       "    </tr>\n",
       "    <tr>\n",
       "      <th>1</th>\n",
       "      <td>74.97</td>\n",
       "      <td>3.0</td>\n",
       "      <td>1.0</td>\n",
       "      <td>0.0</td>\n",
       "      <td>0.0</td>\n",
       "      <td>0.0</td>\n",
       "      <td>0.0</td>\n",
       "    </tr>\n",
       "    <tr>\n",
       "      <th>2</th>\n",
       "      <td>29.94</td>\n",
       "      <td>1.0</td>\n",
       "      <td>0.0</td>\n",
       "      <td>0.0</td>\n",
       "      <td>0.0</td>\n",
       "      <td>0.0</td>\n",
       "      <td>0.0</td>\n",
       "    </tr>\n",
       "    <tr>\n",
       "      <th>3</th>\n",
       "      <td>57.98</td>\n",
       "      <td>1.0</td>\n",
       "      <td>0.0</td>\n",
       "      <td>0.0</td>\n",
       "      <td>0.0</td>\n",
       "      <td>0.0</td>\n",
       "      <td>0.0</td>\n",
       "    </tr>\n",
       "    <tr>\n",
       "      <th>4</th>\n",
       "      <td>60.98</td>\n",
       "      <td>1.0</td>\n",
       "      <td>0.0</td>\n",
       "      <td>0.0</td>\n",
       "      <td>0.0</td>\n",
       "      <td>0.0</td>\n",
       "      <td>0.0</td>\n",
       "    </tr>\n",
       "    <tr>\n",
       "      <th>...</th>\n",
       "      <td>...</td>\n",
       "      <td>...</td>\n",
       "      <td>...</td>\n",
       "      <td>...</td>\n",
       "      <td>...</td>\n",
       "      <td>...</td>\n",
       "      <td>...</td>\n",
       "    </tr>\n",
       "    <tr>\n",
       "      <th>939205</th>\n",
       "      <td>67.64</td>\n",
       "      <td>1.0</td>\n",
       "      <td>0.0</td>\n",
       "      <td>0.0</td>\n",
       "      <td>0.0</td>\n",
       "      <td>0.0</td>\n",
       "      <td>0.0</td>\n",
       "    </tr>\n",
       "    <tr>\n",
       "      <th>939206</th>\n",
       "      <td>190.90</td>\n",
       "      <td>4.0</td>\n",
       "      <td>1.0</td>\n",
       "      <td>0.0</td>\n",
       "      <td>0.0</td>\n",
       "      <td>0.0</td>\n",
       "      <td>0.0</td>\n",
       "    </tr>\n",
       "    <tr>\n",
       "      <th>939207</th>\n",
       "      <td>33.94</td>\n",
       "      <td>1.0</td>\n",
       "      <td>0.0</td>\n",
       "      <td>0.0</td>\n",
       "      <td>0.0</td>\n",
       "      <td>0.0</td>\n",
       "      <td>0.0</td>\n",
       "    </tr>\n",
       "    <tr>\n",
       "      <th>939208</th>\n",
       "      <td>29.90</td>\n",
       "      <td>1.0</td>\n",
       "      <td>0.0</td>\n",
       "      <td>0.0</td>\n",
       "      <td>0.0</td>\n",
       "      <td>0.0</td>\n",
       "      <td>0.0</td>\n",
       "    </tr>\n",
       "    <tr>\n",
       "      <th>939209</th>\n",
       "      <td>59.00</td>\n",
       "      <td>3.0</td>\n",
       "      <td>0.0</td>\n",
       "      <td>0.0</td>\n",
       "      <td>0.0</td>\n",
       "      <td>0.0</td>\n",
       "      <td>0.0</td>\n",
       "    </tr>\n",
       "  </tbody>\n",
       "</table>\n",
       "<p>939210 rows × 7 columns</p>\n",
       "</div>"
      ],
      "text/plain": [
       "        CART_VALUE  NR_ITEMS  CREATED  DUNNING_1  DUNNING_2  DUNNING_3  \\\n",
       "0            25.94       1.0      0.0        0.0        0.0        0.0   \n",
       "1            74.97       3.0      1.0        0.0        0.0        0.0   \n",
       "2            29.94       1.0      0.0        0.0        0.0        0.0   \n",
       "3            57.98       1.0      0.0        0.0        0.0        0.0   \n",
       "4            60.98       1.0      0.0        0.0        0.0        0.0   \n",
       "...            ...       ...      ...        ...        ...        ...   \n",
       "939205       67.64       1.0      0.0        0.0        0.0        0.0   \n",
       "939206      190.90       4.0      1.0        0.0        0.0        0.0   \n",
       "939207       33.94       1.0      0.0        0.0        0.0        0.0   \n",
       "939208       29.90       1.0      0.0        0.0        0.0        0.0   \n",
       "939209       59.00       3.0      0.0        0.0        0.0        0.0   \n",
       "\n",
       "        DUNNING_5  \n",
       "0             0.0  \n",
       "1             0.0  \n",
       "2             0.0  \n",
       "3             0.0  \n",
       "4             0.0  \n",
       "...           ...  \n",
       "939205        0.0  \n",
       "939206        0.0  \n",
       "939207        0.0  \n",
       "939208        0.0  \n",
       "939209        0.0  \n",
       "\n",
       "[939210 rows x 7 columns]"
      ]
     },
     "execution_count": 4,
     "metadata": {},
     "output_type": "execute_result"
    }
   ],
   "source": [
    "X_train[['CART_VALUE', 'NR_ITEMS', 'CREATED', 'DUNNING_1', 'DUNNING_2', 'DUNNING_3', 'DUNNING_5'] ]"
   ]
  },
  {
   "cell_type": "code",
   "execution_count": 5,
   "id": "de050b4b",
   "metadata": {},
   "outputs": [],
   "source": [
    "#Num of idnvoices paid prior to creation date"
   ]
  },
  {
   "cell_type": "code",
   "execution_count": 6,
   "id": "87f35e21",
   "metadata": {},
   "outputs": [
    {
     "data": {
      "text/plain": [
       "(939210, 28)"
      ]
     },
     "execution_count": 6,
     "metadata": {},
     "output_type": "execute_result"
    }
   ],
   "source": [
    "X_train.shape"
   ]
  },
  {
   "cell_type": "code",
   "execution_count": 7,
   "id": "0cd7f00a",
   "metadata": {},
   "outputs": [
    {
     "data": {
      "text/plain": [
       "(234874, 28)"
      ]
     },
     "execution_count": 7,
     "metadata": {},
     "output_type": "execute_result"
    }
   ],
   "source": [
    "X_test.shape"
   ]
  },
  {
   "cell_type": "code",
   "execution_count": 8,
   "id": "e2a04bfe",
   "metadata": {},
   "outputs": [
    {
     "data": {
      "text/plain": [
       "(array([ 19037.,  72200., 104986., 117204., 189291., 181893., 129691.,\n",
       "         75959.,  44137.,   4812.]),\n",
       " array([15., 23., 31., 39., 47., 55., 63., 71., 79., 87., 95.]),\n",
       " <BarContainer object of 10 artists>)"
      ]
     },
     "execution_count": 8,
     "metadata": {},
     "output_type": "execute_result"
    },
    {
     "data": {
      "image/png": "[encoded data removed]",
      "text/plain": [
       "<Figure size 640x480 with 1 Axes>"
      ]
     },
     "metadata": {},
     "output_type": "display_data"
    }
   ],
   "source": [
    "from matplotlib import pyplot as plt\n",
    "plt.hist(X_train.AGE)"
   ]
  },
  {
   "cell_type": "code",
   "execution_count": 9,
   "id": "b00d10ac",
   "metadata": {},
   "outputs": [
    {
     "data": {
      "text/plain": [
       "Index(['ORDER_DATE', 'CUSTOMER_ID', 'SHOP', 'CART_VALUE', 'NR_ITEMS',\n",
       "       'NR_ITEMS_UNIQUE', 'GENDER', 'AGE', 'STREET', 'ZIP', 'CITY',\n",
       "       'STREET_ID', 'CANCELLED', 'CLOSED', 'CREATED', 'DUNNING_1', 'DUNNING_2',\n",
       "       'DUNNING_3', 'DUNNING_4', 'DUNNING_5', 'INKASSO_CLOSED',\n",
       "       'INKASSO_PENDING', 'PAID_FULL', 'PAID_OVER', 'REMINDER_1', 'REMINDER_2',\n",
       "       'TRANSACTION_CREDIT_COLLECTION_IN_PROGRESS', 'TARGET'],\n",
       "      dtype='object')"
      ]
     },
     "execution_count": 9,
     "metadata": {},
     "output_type": "execute_result"
    }
   ],
   "source": [
    "X_train.columns"
   ]
  },
  {
   "cell_type": "code",
   "execution_count": 10,
   "id": "b65634d9",
   "metadata": {},
   "outputs": [
    {
     "data": {
      "text/html": [
       "<div>\n",
       "<style scoped>\n",
       "    .dataframe tbody tr th:only-of-type {\n",
       "        vertical-align: middle;\n",
       "    }\n",
       "\n",
       "    .dataframe tbody tr th {\n",
       "        vertical-align: top;\n",
       "    }\n",
       "\n",
       "    .dataframe thead th {\n",
       "        text-align: right;\n",
       "    }\n",
       "</style>\n",
       "<table border=\"1\" class=\"dataframe\">\n",
       "  <thead>\n",
       "    <tr style=\"text-align: right;\">\n",
       "      <th></th>\n",
       "      <th>ORDER_DATE</th>\n",
       "      <th>CUSTOMER_ID</th>\n",
       "      <th>SHOP</th>\n",
       "      <th>CART_VALUE</th>\n",
       "      <th>NR_ITEMS</th>\n",
       "      <th>NR_ITEMS_UNIQUE</th>\n",
       "      <th>GENDER</th>\n",
       "      <th>AGE</th>\n",
       "      <th>STREET</th>\n",
       "      <th>ZIP</th>\n",
       "      <th>...</th>\n",
       "      <th>DUNNING_4</th>\n",
       "      <th>DUNNING_5</th>\n",
       "      <th>INKASSO_CLOSED</th>\n",
       "      <th>INKASSO_PENDING</th>\n",
       "      <th>PAID_FULL</th>\n",
       "      <th>PAID_OVER</th>\n",
       "      <th>REMINDER_1</th>\n",
       "      <th>REMINDER_2</th>\n",
       "      <th>TRANSACTION_CREDIT_COLLECTION_IN_PROGRESS</th>\n",
       "      <th>TARGET</th>\n",
       "    </tr>\n",
       "  </thead>\n",
       "  <tbody>\n",
       "    <tr>\n",
       "      <th>0</th>\n",
       "      <td>2017-07-04</td>\n",
       "      <td>16149387</td>\n",
       "      <td>Sports</td>\n",
       "      <td>28.94</td>\n",
       "      <td>1.0</td>\n",
       "      <td>1.0</td>\n",
       "      <td>f</td>\n",
       "      <td>53.0</td>\n",
       "      <td>Bahnstr.</td>\n",
       "      <td>46147</td>\n",
       "      <td>...</td>\n",
       "      <td>0.0</td>\n",
       "      <td>0.0</td>\n",
       "      <td>0.0</td>\n",
       "      <td>0.0</td>\n",
       "      <td>1.0</td>\n",
       "      <td>0.0</td>\n",
       "      <td>0.0</td>\n",
       "      <td>0.0</td>\n",
       "      <td>0.0</td>\n",
       "      <td>1</td>\n",
       "    </tr>\n",
       "    <tr>\n",
       "      <th>1</th>\n",
       "      <td>2018-10-19</td>\n",
       "      <td>23075071</td>\n",
       "      <td>Fashion</td>\n",
       "      <td>35.94</td>\n",
       "      <td>1.0</td>\n",
       "      <td>1.0</td>\n",
       "      <td>f</td>\n",
       "      <td>59.0</td>\n",
       "      <td>Albstr.</td>\n",
       "      <td>73262</td>\n",
       "      <td>...</td>\n",
       "      <td>0.0</td>\n",
       "      <td>0.0</td>\n",
       "      <td>0.0</td>\n",
       "      <td>0.0</td>\n",
       "      <td>1.0</td>\n",
       "      <td>0.0</td>\n",
       "      <td>0.0</td>\n",
       "      <td>0.0</td>\n",
       "      <td>0.0</td>\n",
       "      <td>1</td>\n",
       "    </tr>\n",
       "    <tr>\n",
       "      <th>2</th>\n",
       "      <td>2018-12-19</td>\n",
       "      <td>26993445</td>\n",
       "      <td>Jewellery</td>\n",
       "      <td>158.74</td>\n",
       "      <td>2.0</td>\n",
       "      <td>2.0</td>\n",
       "      <td>m</td>\n",
       "      <td>40.0</td>\n",
       "      <td>Schepmannskamp</td>\n",
       "      <td>45529</td>\n",
       "      <td>...</td>\n",
       "      <td>0.0</td>\n",
       "      <td>0.0</td>\n",
       "      <td>0.0</td>\n",
       "      <td>0.0</td>\n",
       "      <td>1.0</td>\n",
       "      <td>0.0</td>\n",
       "      <td>1.0</td>\n",
       "      <td>0.0</td>\n",
       "      <td>0.0</td>\n",
       "      <td>2</td>\n",
       "    </tr>\n",
       "    <tr>\n",
       "      <th>3</th>\n",
       "      <td>2018-11-14</td>\n",
       "      <td>17349545</td>\n",
       "      <td>Fashion</td>\n",
       "      <td>45.94</td>\n",
       "      <td>1.0</td>\n",
       "      <td>1.0</td>\n",
       "      <td>f</td>\n",
       "      <td>58.0</td>\n",
       "      <td>Schmackweg</td>\n",
       "      <td>26723</td>\n",
       "      <td>...</td>\n",
       "      <td>0.0</td>\n",
       "      <td>0.0</td>\n",
       "      <td>0.0</td>\n",
       "      <td>0.0</td>\n",
       "      <td>1.0</td>\n",
       "      <td>0.0</td>\n",
       "      <td>1.0</td>\n",
       "      <td>0.0</td>\n",
       "      <td>0.0</td>\n",
       "      <td>1</td>\n",
       "    </tr>\n",
       "    <tr>\n",
       "      <th>4</th>\n",
       "      <td>2020-06-13</td>\n",
       "      <td>31624705</td>\n",
       "      <td>Sports</td>\n",
       "      <td>12.90</td>\n",
       "      <td>1.0</td>\n",
       "      <td>1.0</td>\n",
       "      <td>m</td>\n",
       "      <td>51.0</td>\n",
       "      <td>Taubestr.</td>\n",
       "      <td>4347</td>\n",
       "      <td>...</td>\n",
       "      <td>0.0</td>\n",
       "      <td>0.0</td>\n",
       "      <td>0.0</td>\n",
       "      <td>0.0</td>\n",
       "      <td>1.0</td>\n",
       "      <td>0.0</td>\n",
       "      <td>0.0</td>\n",
       "      <td>0.0</td>\n",
       "      <td>0.0</td>\n",
       "      <td>1</td>\n",
       "    </tr>\n",
       "    <tr>\n",
       "      <th>...</th>\n",
       "      <td>...</td>\n",
       "      <td>...</td>\n",
       "      <td>...</td>\n",
       "      <td>...</td>\n",
       "      <td>...</td>\n",
       "      <td>...</td>\n",
       "      <td>...</td>\n",
       "      <td>...</td>\n",
       "      <td>...</td>\n",
       "      <td>...</td>\n",
       "      <td>...</td>\n",
       "      <td>...</td>\n",
       "      <td>...</td>\n",
       "      <td>...</td>\n",
       "      <td>...</td>\n",
       "      <td>...</td>\n",
       "      <td>...</td>\n",
       "      <td>...</td>\n",
       "      <td>...</td>\n",
       "      <td>...</td>\n",
       "      <td>...</td>\n",
       "    </tr>\n",
       "    <tr>\n",
       "      <th>234869</th>\n",
       "      <td>2019-01-29</td>\n",
       "      <td>16942578</td>\n",
       "      <td>Fashion</td>\n",
       "      <td>40.94</td>\n",
       "      <td>1.0</td>\n",
       "      <td>1.0</td>\n",
       "      <td>f</td>\n",
       "      <td>63.0</td>\n",
       "      <td>Klingestr.</td>\n",
       "      <td>8451</td>\n",
       "      <td>...</td>\n",
       "      <td>0.0</td>\n",
       "      <td>0.0</td>\n",
       "      <td>0.0</td>\n",
       "      <td>0.0</td>\n",
       "      <td>1.0</td>\n",
       "      <td>0.0</td>\n",
       "      <td>1.0</td>\n",
       "      <td>0.0</td>\n",
       "      <td>0.0</td>\n",
       "      <td>1</td>\n",
       "    </tr>\n",
       "    <tr>\n",
       "      <th>234870</th>\n",
       "      <td>2018-06-26</td>\n",
       "      <td>15574612</td>\n",
       "      <td>Fashion</td>\n",
       "      <td>20.94</td>\n",
       "      <td>1.0</td>\n",
       "      <td>1.0</td>\n",
       "      <td>f</td>\n",
       "      <td>70.0</td>\n",
       "      <td>Höllgrabenweg</td>\n",
       "      <td>37281</td>\n",
       "      <td>...</td>\n",
       "      <td>0.0</td>\n",
       "      <td>0.0</td>\n",
       "      <td>0.0</td>\n",
       "      <td>0.0</td>\n",
       "      <td>1.0</td>\n",
       "      <td>0.0</td>\n",
       "      <td>0.0</td>\n",
       "      <td>0.0</td>\n",
       "      <td>0.0</td>\n",
       "      <td>1</td>\n",
       "    </tr>\n",
       "    <tr>\n",
       "      <th>234871</th>\n",
       "      <td>2020-07-24</td>\n",
       "      <td>15685098</td>\n",
       "      <td>Fashion</td>\n",
       "      <td>25.94</td>\n",
       "      <td>1.0</td>\n",
       "      <td>1.0</td>\n",
       "      <td>f</td>\n",
       "      <td>85.0</td>\n",
       "      <td>Detmolder Str.</td>\n",
       "      <td>33604</td>\n",
       "      <td>...</td>\n",
       "      <td>0.0</td>\n",
       "      <td>0.0</td>\n",
       "      <td>0.0</td>\n",
       "      <td>0.0</td>\n",
       "      <td>1.0</td>\n",
       "      <td>0.0</td>\n",
       "      <td>1.0</td>\n",
       "      <td>0.0</td>\n",
       "      <td>0.0</td>\n",
       "      <td>1</td>\n",
       "    </tr>\n",
       "    <tr>\n",
       "      <th>234872</th>\n",
       "      <td>2019-01-31</td>\n",
       "      <td>28121228</td>\n",
       "      <td>Fashion</td>\n",
       "      <td>50.98</td>\n",
       "      <td>1.0</td>\n",
       "      <td>1.0</td>\n",
       "      <td>f</td>\n",
       "      <td>70.0</td>\n",
       "      <td>Oberhauser Str.</td>\n",
       "      <td>45359</td>\n",
       "      <td>...</td>\n",
       "      <td>0.0</td>\n",
       "      <td>0.0</td>\n",
       "      <td>0.0</td>\n",
       "      <td>0.0</td>\n",
       "      <td>1.0</td>\n",
       "      <td>0.0</td>\n",
       "      <td>0.0</td>\n",
       "      <td>0.0</td>\n",
       "      <td>0.0</td>\n",
       "      <td>1</td>\n",
       "    </tr>\n",
       "    <tr>\n",
       "      <th>234873</th>\n",
       "      <td>2020-10-14</td>\n",
       "      <td>32578523</td>\n",
       "      <td>Food</td>\n",
       "      <td>31.70</td>\n",
       "      <td>6.0</td>\n",
       "      <td>2.0</td>\n",
       "      <td>f</td>\n",
       "      <td>26.0</td>\n",
       "      <td>Ludwigstr.</td>\n",
       "      <td>82433</td>\n",
       "      <td>...</td>\n",
       "      <td>0.0</td>\n",
       "      <td>0.0</td>\n",
       "      <td>0.0</td>\n",
       "      <td>0.0</td>\n",
       "      <td>1.0</td>\n",
       "      <td>0.0</td>\n",
       "      <td>1.0</td>\n",
       "      <td>0.0</td>\n",
       "      <td>0.0</td>\n",
       "      <td>1</td>\n",
       "    </tr>\n",
       "  </tbody>\n",
       "</table>\n",
       "<p>234874 rows × 28 columns</p>\n",
       "</div>"
      ],
      "text/plain": [
       "        ORDER_DATE  CUSTOMER_ID       SHOP  CART_VALUE  NR_ITEMS  \\\n",
       "0       2017-07-04     16149387     Sports       28.94       1.0   \n",
       "1       2018-10-19     23075071    Fashion       35.94       1.0   \n",
       "2       2018-12-19     26993445  Jewellery      158.74       2.0   \n",
       "3       2018-11-14     17349545    Fashion       45.94       1.0   \n",
       "4       2020-06-13     31624705     Sports       12.90       1.0   \n",
       "...            ...          ...        ...         ...       ...   \n",
       "234869  2019-01-29     16942578    Fashion       40.94       1.0   \n",
       "234870  2018-06-26     15574612    Fashion       20.94       1.0   \n",
       "234871  2020-07-24     15685098    Fashion       25.94       1.0   \n",
       "234872  2019-01-31     28121228    Fashion       50.98       1.0   \n",
       "234873  2020-10-14     32578523       Food       31.70       6.0   \n",
       "\n",
       "        NR_ITEMS_UNIQUE GENDER   AGE           STREET    ZIP  ... DUNNING_4  \\\n",
       "0                   1.0      f  53.0         Bahnstr.  46147  ...       0.0   \n",
       "1                   1.0      f  59.0          Albstr.  73262  ...       0.0   \n",
       "2                   2.0      m  40.0   Schepmannskamp  45529  ...       0.0   \n",
       "3                   1.0      f  58.0       Schmackweg  26723  ...       0.0   \n",
       "4                   1.0      m  51.0        Taubestr.   4347  ...       0.0   \n",
       "...                 ...    ...   ...              ...    ...  ...       ...   \n",
       "234869              1.0      f  63.0       Klingestr.   8451  ...       0.0   \n",
       "234870              1.0      f  70.0    Höllgrabenweg  37281  ...       0.0   \n",
       "234871              1.0      f  85.0   Detmolder Str.  33604  ...       0.0   \n",
       "234872              1.0      f  70.0  Oberhauser Str.  45359  ...       0.0   \n",
       "234873              2.0      f  26.0       Ludwigstr.  82433  ...       0.0   \n",
       "\n",
       "        DUNNING_5  INKASSO_CLOSED  INKASSO_PENDING  PAID_FULL  PAID_OVER  \\\n",
       "0             0.0             0.0              0.0        1.0        0.0   \n",
       "1             0.0             0.0              0.0        1.0        0.0   \n",
       "2             0.0             0.0              0.0        1.0        0.0   \n",
       "3             0.0             0.0              0.0        1.0        0.0   \n",
       "4             0.0             0.0              0.0        1.0        0.0   \n",
       "...           ...             ...              ...        ...        ...   \n",
       "234869        0.0             0.0              0.0        1.0        0.0   \n",
       "234870        0.0             0.0              0.0        1.0        0.0   \n",
       "234871        0.0             0.0              0.0        1.0        0.0   \n",
       "234872        0.0             0.0              0.0        1.0        0.0   \n",
       "234873        0.0             0.0              0.0        1.0        0.0   \n",
       "\n",
       "        REMINDER_1  REMINDER_2  TRANSACTION_CREDIT_COLLECTION_IN_PROGRESS  \\\n",
       "0              0.0         0.0                                        0.0   \n",
       "1              0.0         0.0                                        0.0   \n",
       "2              1.0         0.0                                        0.0   \n",
       "3              1.0         0.0                                        0.0   \n",
       "4              0.0         0.0                                        0.0   \n",
       "...            ...         ...                                        ...   \n",
       "234869         1.0         0.0                                        0.0   \n",
       "234870         0.0         0.0                                        0.0   \n",
       "234871         1.0         0.0                                        0.0   \n",
       "234872         0.0         0.0                                        0.0   \n",
       "234873         1.0         0.0                                        0.0   \n",
       "\n",
       "        TARGET  \n",
       "0            1  \n",
       "1            1  \n",
       "2            2  \n",
       "3            1  \n",
       "4            1  \n",
       "...        ...  \n",
       "234869       1  \n",
       "234870       1  \n",
       "234871       1  \n",
       "234872       1  \n",
       "234873       1  \n",
       "\n",
       "[234874 rows x 28 columns]"
      ]
     },
     "execution_count": 10,
     "metadata": {},
     "output_type": "execute_result"
    }
   ],
   "source": [
    "X_test"
   ]
  },
  {
   "cell_type": "code",
   "execution_count": 11,
   "id": "933d75d8",
   "metadata": {},
   "outputs": [],
   "source": [
    "columnsToDrop = ['CUSTOMER_ID','PAID_FULL','ORDER_DATE', 'CUSTOMER_ID', 'STREET', 'ZIP', 'CITY', 'STREET_ID']"
   ]
  },
  {
   "cell_type": "code",
   "execution_count": 12,
   "id": "fcd06952",
   "metadata": {},
   "outputs": [],
   "source": [
    "\n",
    "\n",
    "X_train.drop(columnsToDrop, axis=1, inplace=True)\n",
    "X_test.drop(columnsToDrop, axis=1, inplace=True)\n"
   ]
  },
  {
   "cell_type": "code",
   "execution_count": 13,
   "id": "2dd5eef1",
   "metadata": {},
   "outputs": [
    {
     "data": {
      "text/plain": [
       "Index(['SHOP', 'CART_VALUE', 'NR_ITEMS', 'NR_ITEMS_UNIQUE', 'GENDER', 'AGE',\n",
       "       'CANCELLED', 'CLOSED', 'CREATED', 'DUNNING_1', 'DUNNING_2', 'DUNNING_3',\n",
       "       'DUNNING_4', 'DUNNING_5', 'INKASSO_CLOSED', 'INKASSO_PENDING',\n",
       "       'PAID_OVER', 'REMINDER_1', 'REMINDER_2',\n",
       "       'TRANSACTION_CREDIT_COLLECTION_IN_PROGRESS', 'TARGET'],\n",
       "      dtype='object')"
      ]
     },
     "execution_count": 13,
     "metadata": {},
     "output_type": "execute_result"
    }
   ],
   "source": [
    "X_train.columns"
   ]
  },
  {
   "cell_type": "code",
   "execution_count": 14,
   "id": "4999253f",
   "metadata": {},
   "outputs": [],
   "source": [
    "dateDiffColumns = ['CANCELLED', 'CLOSED',\n",
    "       'CREATED', 'DUNNING_1', 'DUNNING_2', 'DUNNING_3', 'DUNNING_4',\n",
    "       'DUNNING_5', 'INKASSO_CLOSED', 'INKASSO_PENDING', 'PAID_OVER',\n",
    "       'REMINDER_1', 'REMINDER_2', 'TRANSACTION_CREDIT_COLLECTION_IN_PROGRESS']"
   ]
  },
  {
   "cell_type": "code",
   "execution_count": 15,
   "id": "a492852b",
   "metadata": {},
   "outputs": [
    {
     "data": {
      "text/plain": [
       "(array([ 19037.,  72200., 104986., 117204., 189291., 181893., 129691.,\n",
       "         75959.,  44137.,   4812.]),\n",
       " array([15., 23., 31., 39., 47., 55., 63., 71., 79., 87., 95.]),\n",
       " <BarContainer object of 10 artists>)"
      ]
     },
     "execution_count": 15,
     "metadata": {},
     "output_type": "execute_result"
    },
    {
     "data": {
      "image/png": "[encoded data removed]",
      "text/plain": [
       "<Figure size 640x480 with 1 Axes>"
      ]
     },
     "metadata": {},
     "output_type": "display_data"
    }
   ],
   "source": [
    "from matplotlib import pyplot as plt\n",
    "\n",
    "plt.hist(X_train.AGE)"
   ]
  },
  {
   "cell_type": "markdown",
   "id": "3a5696c0",
   "metadata": {},
   "source": [
    "#### changing types"
   ]
  },
  {
   "cell_type": "code",
   "execution_count": 16,
   "id": "94a850a3",
   "metadata": {},
   "outputs": [
    {
     "data": {
      "text/plain": [
       "Index(['SHOP', 'CART_VALUE', 'NR_ITEMS', 'NR_ITEMS_UNIQUE', 'GENDER', 'AGE',\n",
       "       'CANCELLED', 'CLOSED', 'CREATED', 'DUNNING_1', 'DUNNING_2', 'DUNNING_3',\n",
       "       'DUNNING_4', 'DUNNING_5', 'INKASSO_CLOSED', 'INKASSO_PENDING',\n",
       "       'PAID_OVER', 'REMINDER_1', 'REMINDER_2',\n",
       "       'TRANSACTION_CREDIT_COLLECTION_IN_PROGRESS', 'TARGET'],\n",
       "      dtype='object')"
      ]
     },
     "execution_count": 16,
     "metadata": {},
     "output_type": "execute_result"
    }
   ],
   "source": [
    "X_train.columns"
   ]
  },
  {
   "cell_type": "code",
   "execution_count": 17,
   "id": "d59784ce",
   "metadata": {},
   "outputs": [],
   "source": [
    "X_train[['SHOP', 'GENDER']] = X_train[['SHOP', 'GENDER']].astype('category')\n",
    "X_test[['SHOP', 'GENDER']] = X_test[['SHOP', 'GENDER']].astype('category')"
   ]
  },
  {
   "cell_type": "code",
   "execution_count": 18,
   "id": "592fbc56",
   "metadata": {},
   "outputs": [
    {
     "data": {
      "text/plain": [
       "(array([ 19037.,  72200., 104986., 117204., 189291., 181893., 129691.,\n",
       "         75959.,  44137.,   4812.]),\n",
       " array([15., 23., 31., 39., 47., 55., 63., 71., 79., 87., 95.]),\n",
       " <BarContainer object of 10 artists>)"
      ]
     },
     "execution_count": 18,
     "metadata": {},
     "output_type": "execute_result"
    },
    {
     "data": {
      "image/png": "[encoded data removed]",
      "text/plain": [
       "<Figure size 640x480 with 1 Axes>"
      ]
     },
     "metadata": {},
     "output_type": "display_data"
    }
   ],
   "source": [
    "from matplotlib import pyplot as plt\n",
    "\n",
    "plt.hist(X_train.AGE)"
   ]
  },
  {
   "cell_type": "markdown",
   "id": "4f5beedc",
   "metadata": {},
   "source": [
    "### Dropping Categories with too many values or Constant Values"
   ]
  },
  {
   "cell_type": "markdown",
   "id": "6aabcf61",
   "metadata": {},
   "source": [
    "### ONE-HOT ENCODING"
   ]
  },
  {
   "cell_type": "code",
   "execution_count": 19,
   "id": "a3228f2b",
   "metadata": {},
   "outputs": [],
   "source": [
    "X_train = pd.get_dummies(X_train, columns=['GENDER', 'SHOP'])\n",
    "X_test = pd.get_dummies(X_test, columns=['GENDER', 'SHOP'])"
   ]
  },
  {
   "cell_type": "code",
   "execution_count": 20,
   "id": "c1b19346",
   "metadata": {},
   "outputs": [],
   "source": [
    "y_train = X_train.pop('TARGET')\n",
    "y_test = X_test.pop('TARGET')"
   ]
  },
  {
   "cell_type": "code",
   "execution_count": 21,
   "id": "89dd0e98",
   "metadata": {},
   "outputs": [
    {
     "data": {
      "text/plain": [
       "34"
      ]
     },
     "execution_count": 21,
     "metadata": {},
     "output_type": "execute_result"
    }
   ],
   "source": [
    "len(X_train.columns)"
   ]
  },
  {
   "cell_type": "code",
   "execution_count": 22,
   "id": "c600ee65",
   "metadata": {},
   "outputs": [
    {
     "data": {
      "text/plain": [
       "Index(['CART_VALUE', 'NR_ITEMS', 'NR_ITEMS_UNIQUE', 'AGE', 'CANCELLED',\n",
       "       'CLOSED', 'CREATED', 'DUNNING_1', 'DUNNING_2', 'DUNNING_3', 'DUNNING_4',\n",
       "       'DUNNING_5', 'INKASSO_CLOSED', 'INKASSO_PENDING', 'PAID_OVER',\n",
       "       'REMINDER_1', 'REMINDER_2', 'TRANSACTION_CREDIT_COLLECTION_IN_PROGRESS',\n",
       "       'GENDER_f', 'GENDER_m', 'GENDER_u', 'SHOP_Baby & Child',\n",
       "       'SHOP_Car Accessories', 'SHOP_DIY Superstore & Tools',\n",
       "       'SHOP_Electronics', 'SHOP_Fashion', 'SHOP_Food', 'SHOP_Furniture',\n",
       "       'SHOP_Jewellery', 'SHOP_Media', 'SHOP_Shoes', 'SHOP_Sports',\n",
       "       'SHOP_Toys', 'SHOP_Young Fashion'],\n",
       "      dtype='object')"
      ]
     },
     "execution_count": 22,
     "metadata": {},
     "output_type": "execute_result"
    }
   ],
   "source": [
    "X_train.columns"
   ]
  },
  {
   "cell_type": "code",
   "execution_count": 23,
   "id": "44395886",
   "metadata": {},
   "outputs": [
    {
     "data": {
      "text/plain": [
       "(array([ 19037.,  72200., 104986., 117204., 189291., 181893., 129691.,\n",
       "         75959.,  44137.,   4812.]),\n",
       " array([15., 23., 31., 39., 47., 55., 63., 71., 79., 87., 95.]),\n",
       " <BarContainer object of 10 artists>)"
      ]
     },
     "execution_count": 23,
     "metadata": {},
     "output_type": "execute_result"
    },
    {
     "data": {
      "image/png": "[encoded data removed]",
      "text/plain": [
       "<Figure size 640x480 with 1 Axes>"
      ]
     },
     "metadata": {},
     "output_type": "display_data"
    }
   ],
   "source": [
    "from matplotlib import pyplot as plt\n",
    "\n",
    "plt.hist(X_train.AGE)"
   ]
  },
  {
   "cell_type": "code",
   "execution_count": 24,
   "id": "ee88cd1a",
   "metadata": {},
   "outputs": [
    {
     "data": {
      "text/plain": [
       "0         2\n",
       "1         2\n",
       "2         1\n",
       "3         2\n",
       "4         1\n",
       "         ..\n",
       "939205    1\n",
       "939206    1\n",
       "939207    1\n",
       "939208    2\n",
       "939209    1\n",
       "Name: TARGET, Length: 939210, dtype: int64"
      ]
     },
     "execution_count": 24,
     "metadata": {},
     "output_type": "execute_result"
    }
   ],
   "source": [
    "y_train"
   ]
  },
  {
   "cell_type": "code",
   "execution_count": 25,
   "id": "29ddb42c",
   "metadata": {},
   "outputs": [
    {
     "data": {
      "text/plain": [
       "[Text(0, 0, 'On Time'), Text(1, 0, 'Acceptable'), Text(2, 0, 'Late')]"
      ]
     },
     "execution_count": 25,
     "metadata": {},
     "output_type": "execute_result"
    },
    {
     "data": {
      "image/png": "[encoded data removed]",
      "text/plain": [
       "<Figure size 640x480 with 1 Axes>"
      ]
     },
     "metadata": {},
     "output_type": "display_data"
    }
   ],
   "source": [
    "y_train.value_counts().plot.bar(color=['green', 'yellow', 'red']).set_xticklabels(['On Time', 'Acceptable', 'Late'])"
   ]
  },
  {
   "cell_type": "markdown",
   "id": "f93489f4",
   "metadata": {},
   "source": [
    "### Balancing DataSet"
   ]
  },
  {
   "cell_type": "markdown",
   "id": "d30ce1a1",
   "metadata": {},
   "source": [
    "#### Using RandomUnderSampler"
   ]
  },
  {
   "cell_type": "code",
   "execution_count": 26,
   "id": "595f90a3",
   "metadata": {},
   "outputs": [],
   "source": [
    "from imblearn.under_sampling import RandomUnderSampler\n",
    "rus = RandomUnderSampler()\n",
    "X_resampled_rus, y_resampled_us = rus.fit_resample(X_train, y_train)"
   ]
  },
  {
   "cell_type": "code",
   "execution_count": 27,
   "id": "8ecb4a30",
   "metadata": {},
   "outputs": [
    {
     "data": {
      "text/plain": [
       "[Text(0, 0, 'On Time'), Text(1, 0, 'Acceptable'), Text(2, 0, 'Late')]"
      ]
     },
     "execution_count": 27,
     "metadata": {},
     "output_type": "execute_result"
    },
    {
     "data": {
      "image/png": "[encoded data removed]",
      "text/plain": [
       "<Figure size 640x480 with 1 Axes>"
      ]
     },
     "metadata": {},
     "output_type": "display_data"
    }
   ],
   "source": [
    "y_resampled_us.value_counts().plot.bar(color=['green', 'yellow', 'red']).set_xticklabels(['On Time', 'Acceptable', 'Late'])"
   ]
  },
  {
   "cell_type": "markdown",
   "id": "2ce6d699",
   "metadata": {},
   "source": [
    "#### Using NearMiss"
   ]
  },
  {
   "cell_type": "code",
   "execution_count": 28,
   "id": "d93fca0a",
   "metadata": {},
   "outputs": [],
   "source": [
    "from imblearn.under_sampling import NearMiss\n",
    "\n",
    "nm = NearMiss(n_neighbors=3, n_jobs=-1, version=3)\n",
    "X_resampled_rus, y_resampled_us = nm.fit_resample(X_train, y_train)"
   ]
  },
  {
   "cell_type": "markdown",
   "id": "0383f819",
   "metadata": {},
   "source": [
    "### OverSampling"
   ]
  },
  {
   "cell_type": "code",
   "execution_count": 29,
   "id": "722120f6",
   "metadata": {},
   "outputs": [],
   "source": [
    "from imblearn.over_sampling import SMOTE\n",
    "sm = SMOTE(random_state=42)\n",
    "\n",
    "X_resampled_rus, y_resampled_us = sm.fit_resample(X_train, y_train)"
   ]
  },
  {
   "cell_type": "markdown",
   "id": "fdfdf4a5",
   "metadata": {},
   "source": [
    "### Testing Feature importance"
   ]
  },
  {
   "cell_type": "code",
   "execution_count": null,
   "id": "f9089205",
   "metadata": {},
   "outputs": [
    {
     "name": "stdout",
     "output_type": "stream",
     "text": [
      "Fitting estimator with 34 features.\n"
     ]
    },
    {
     "name": "stdout",
     "output_type": "stream",
     "text": [
      "Fitting estimator with 18 features.\n"
     ]
    }
   ],
   "source": [
    "# evaluate multinomial logistic regression model\n",
    "from numpy import mean\n",
    "from numpy import std\n",
    "from sklearn.datasets import make_classification\n",
    "from sklearn.model_selection import cross_val_score\n",
    "from sklearn.model_selection import RepeatedStratifiedKFold\n",
    "from sklearn.linear_model import LogisticRegression\n",
    "from sklearn.preprocessing import StandardScaler\n",
    "from sklearn.pipeline import make_pipeline\n",
    "from sklearn.feature_selection import RFE\n",
    "\n",
    "scaler = StandardScaler()\n",
    "\n",
    "X_train_std = scaler.fit_transform(X_resampled_rus)\n",
    "\n",
    "# define the multinomial logistic regression model\n",
    "rfe = RFE(LogisticRegression(multi_class='multinomial', solver='lbfgs'), verbose=1)\n",
    "rfe.fit(X_train_std, y_resampled_us)  # apply scaling on training data\n"
   ]
  },
  {
   "cell_type": "markdown",
   "id": "569450b5",
   "metadata": {},
   "source": [
    "### Feature Selection and Model"
   ]
  },
  {
   "cell_type": "code",
   "execution_count": null,
   "id": "c23f9801",
   "metadata": {},
   "outputs": [],
   "source": [
    "# evaluate multinomial logistic regression model\n",
    "from numpy import mean\n",
    "from numpy import std\n",
    "from sklearn.datasets import make_classification\n",
    "from sklearn.model_selection import cross_val_score\n",
    "from sklearn.model_selection import RepeatedStratifiedKFold\n",
    "from sklearn.linear_model import LogisticRegression\n",
    "from sklearn.preprocessing import StandardScaler\n",
    "from sklearn.pipeline import make_pipeline\n",
    "from sklearn.feature_selection import RFE\n",
    "\n",
    "# define the multinomial logistic regression model\n",
    "rfe = RFE(LogisticRegression(multi_class='multinomial', solver='lbfgs'), verbose=1)\n",
    "\n",
    "pipe = make_pipeline(StandardScaler(), LogisticRegression())\n",
    "pipe.fit(X_resampled_rus, y_resampled_us)  # apply scaling on training data\n",
    "pipe.score(X_test, y_test)\n"
   ]
  },
  {
   "cell_type": "markdown",
   "id": "7c52b696",
   "metadata": {},
   "source": [
    "### Confusion Matrix"
   ]
  },
  {
   "cell_type": "code",
   "execution_count": null,
   "id": "80baac5d",
   "metadata": {},
   "outputs": [],
   "source": [
    "plt.hist(y_test)"
   ]
  },
  {
   "cell_type": "code",
   "execution_count": null,
   "id": "e25dedcb",
   "metadata": {},
   "outputs": [],
   "source": [
    "y_train.value_counts()"
   ]
  },
  {
   "cell_type": "code",
   "execution_count": 30,
   "id": "3169dfe4",
   "metadata": {},
   "outputs": [
    {
     "data": {
      "image/png": "[encoded data removed]",
      "text/plain": [
       "<Figure size 640x480 with 2 Axes>"
      ]
     },
     "metadata": {},
     "output_type": "display_data"
    }
   ],
   "source": [
    "from sklearn.metrics import confusion_matrix\n",
    "from sklearn.metrics import plot_confusion_matrix\n",
    "\n",
    "y_pred = pipe.predict(X_test)\n",
    "confusion_matrix(y_test, y_pred)\n",
    "\n",
    "disp = plot_confusion_matrix(estimator=pipe, X=X_test, y_true=y_test, display_labels=['<= 15 days', '<= 30 days', '> 30 days'])  "
   ]
  },
  {
   "cell_type": "code",
   "execution_count": null,
   "id": "28f20394",
   "metadata": {},
   "outputs": [],
   "source": [
    "len(y_test) "
   ]
  },
  {
   "cell_type": "markdown",
   "id": "daca8135",
   "metadata": {},
   "source": [
    "### Classification Report"
   ]
  },
  {
   "cell_type": "code",
   "execution_count": 31,
   "id": "f0c26207",
   "metadata": {},
   "outputs": [
    {
     "name": "stdout",
     "output_type": "stream",
     "text": [
      "              precision    recall  f1-score   support\n",
      "\n",
      "           1       0.79      0.84      0.82    156514\n",
      "           2       0.58      0.43      0.50     67394\n",
      "           3       0.31      0.56      0.40     10966\n",
      "\n",
      "    accuracy                           0.71    234874\n",
      "   macro avg       0.56      0.61      0.57    234874\n",
      "weighted avg       0.71      0.71      0.70    234874\n",
      "\n"
     ]
    }
   ],
   "source": [
    "from sklearn.metrics import classification_report\n",
    "\n",
    "print(classification_report(y_test,y_pred))"
   ]
  },
  {
   "cell_type": "code",
   "execution_count": null,
   "id": "92982b85",
   "metadata": {},
   "outputs": [],
   "source": [
    "pd.unique(y_pred)"
   ]
  },
  {
   "cell_type": "code",
   "execution_count": null,
   "id": "ad30e471",
   "metadata": {},
   "outputs": [],
   "source": [
    "# define the model evaluation procedure\n",
    "cv = RepeatedStratifiedKFold(n_splits=10, n_repeats=3, random_state=1)\n",
    "\n",
    "# evaluate the model and collect the scores\n",
    "n_scores = cross_val_score(rfe, X_train, y_train, scoring='accuracy', cv=cv, n_jobs=-1)\n",
    "\n",
    "print(n_scores)\n",
    "# report the model performance\n",
    "print('Mean Accuracy: %.3f (%.3f)' % (mean(n_scores), std(n_scores)))\n"
   ]
  },
  {
   "cell_type": "code",
   "execution_count": null,
   "id": "4dd85d4b",
   "metadata": {},
   "outputs": [],
   "source": [
    "pipe = make_pipeline(StandardScaler(), LogisticRegression())\n",
    "pipe.fit(X_train, y_train)  # apply scaling on training data\n",
    "\n",
    "pipe.score(X_test, y_test)"
   ]
  },
  {
   "cell_type": "markdown",
   "id": "1a5baa26",
   "metadata": {},
   "source": [
    "### Computing AUC ( Area under the curve)"
   ]
  },
  {
   "cell_type": "code",
   "execution_count": 44,
   "id": "4ff6c037",
   "metadata": {},
   "outputs": [
    {
     "data": {
      "text/plain": [
       "0.7800681748552433"
      ]
     },
     "execution_count": 44,
     "metadata": {},
     "output_type": "execute_result"
    }
   ],
   "source": [
    "from sklearn.metrics import roc_auc_score\n",
    "y_pred_prob = pipe.predict_proba(X_test)\n",
    "roc_auc_score(y_test,y_pred_prob, multi_class='ovr')"
   ]
  },
  {
   "cell_type": "markdown",
   "id": "3ee82e53",
   "metadata": {},
   "source": [
    "### Computing ROC Curve"
   ]
  },
  {
   "cell_type": "code",
   "execution_count": 48,
   "id": "9ec947e0",
   "metadata": {},
   "outputs": [
    {
     "ename": "ValueError",
     "evalue": "y should be a 1d array, got an array of shape (234874, 3) instead.",
     "output_type": "error",
     "traceback": [
      "\u001b[0;31m---------------------------------------------------------------------------\u001b[0m",
      "\u001b[0;31mValueError\u001b[0m                                Traceback (most recent call last)",
      "\u001b[0;32m<ipython-input-48-777714e7b150>\u001b[0m in \u001b[0;36m<module>\u001b[0;34m\u001b[0m\n\u001b[1;32m      1\u001b[0m \u001b[0;32mfrom\u001b[0m \u001b[0msklearn\u001b[0m\u001b[0;34m.\u001b[0m\u001b[0mmetrics\u001b[0m \u001b[0;32mimport\u001b[0m \u001b[0mroc_curve\u001b[0m\u001b[0;34m\u001b[0m\u001b[0;34m\u001b[0m\u001b[0m\n\u001b[1;32m      2\u001b[0m \u001b[0my_pred_prob\u001b[0m \u001b[0;34m=\u001b[0m \u001b[0mpipe\u001b[0m\u001b[0;34m.\u001b[0m\u001b[0mpredict_proba\u001b[0m\u001b[0;34m(\u001b[0m\u001b[0mX_test\u001b[0m\u001b[0;34m)\u001b[0m\u001b[0;34m\u001b[0m\u001b[0;34m\u001b[0m\u001b[0m\n\u001b[0;32m----> 3\u001b[0;31m \u001b[0mfpr\u001b[0m \u001b[0;34m,\u001b[0m \u001b[0mtpr\u001b[0m\u001b[0;34m,\u001b[0m \u001b[0mthresholds\u001b[0m \u001b[0;34m=\u001b[0m \u001b[0mroc_curve\u001b[0m\u001b[0;34m(\u001b[0m\u001b[0my_test\u001b[0m\u001b[0;34m,\u001b[0m\u001b[0my_pred_prob\u001b[0m\u001b[0;34m,\u001b[0m \u001b[0mpos_label\u001b[0m\u001b[0;34m=\u001b[0m\u001b[0;34m'your_label'\u001b[0m\u001b[0;34m)\u001b[0m\u001b[0;34m\u001b[0m\u001b[0;34m\u001b[0m\u001b[0m\n\u001b[0m",
      "\u001b[0;32m/opt/conda/lib/python3.7/site-packages/sklearn/utils/validation.py\u001b[0m in \u001b[0;36minner_f\u001b[0;34m(*args, **kwargs)\u001b[0m\n\u001b[1;32m     61\u001b[0m             \u001b[0mextra_args\u001b[0m \u001b[0;34m=\u001b[0m \u001b[0mlen\u001b[0m\u001b[0;34m(\u001b[0m\u001b[0margs\u001b[0m\u001b[0;34m)\u001b[0m \u001b[0;34m-\u001b[0m \u001b[0mlen\u001b[0m\u001b[0;34m(\u001b[0m\u001b[0mall_args\u001b[0m\u001b[0;34m)\u001b[0m\u001b[0;34m\u001b[0m\u001b[0;34m\u001b[0m\u001b[0m\n\u001b[1;32m     62\u001b[0m             \u001b[0;32mif\u001b[0m \u001b[0mextra_args\u001b[0m \u001b[0;34m<=\u001b[0m \u001b[0;36m0\u001b[0m\u001b[0;34m:\u001b[0m\u001b[0;34m\u001b[0m\u001b[0;34m\u001b[0m\u001b[0m\n\u001b[0;32m---> 63\u001b[0;31m                 \u001b[0;32mreturn\u001b[0m \u001b[0mf\u001b[0m\u001b[0;34m(\u001b[0m\u001b[0;34m*\u001b[0m\u001b[0margs\u001b[0m\u001b[0;34m,\u001b[0m \u001b[0;34m**\u001b[0m\u001b[0mkwargs\u001b[0m\u001b[0;34m)\u001b[0m\u001b[0;34m\u001b[0m\u001b[0;34m\u001b[0m\u001b[0m\n\u001b[0m\u001b[1;32m     64\u001b[0m \u001b[0;34m\u001b[0m\u001b[0m\n\u001b[1;32m     65\u001b[0m             \u001b[0;31m# extra_args > 0\u001b[0m\u001b[0;34m\u001b[0m\u001b[0;34m\u001b[0m\u001b[0;34m\u001b[0m\u001b[0m\n",
      "\u001b[0;32m/opt/conda/lib/python3.7/site-packages/sklearn/metrics/_ranking.py\u001b[0m in \u001b[0;36mroc_curve\u001b[0;34m(y_true, y_score, pos_label, sample_weight, drop_intermediate)\u001b[0m\n\u001b[1;32m    912\u001b[0m     \"\"\"\n\u001b[1;32m    913\u001b[0m     fps, tps, thresholds = _binary_clf_curve(\n\u001b[0;32m--> 914\u001b[0;31m         y_true, y_score, pos_label=pos_label, sample_weight=sample_weight)\n\u001b[0m\u001b[1;32m    915\u001b[0m \u001b[0;34m\u001b[0m\u001b[0m\n\u001b[1;32m    916\u001b[0m     \u001b[0;31m# Attempt to drop thresholds corresponding to points in between and\u001b[0m\u001b[0;34m\u001b[0m\u001b[0;34m\u001b[0m\u001b[0;34m\u001b[0m\u001b[0m\n",
      "\u001b[0;32m/opt/conda/lib/python3.7/site-packages/sklearn/metrics/_ranking.py\u001b[0m in \u001b[0;36m_binary_clf_curve\u001b[0;34m(y_true, y_score, pos_label, sample_weight)\u001b[0m\n\u001b[1;32m    693\u001b[0m     \u001b[0mcheck_consistent_length\u001b[0m\u001b[0;34m(\u001b[0m\u001b[0my_true\u001b[0m\u001b[0;34m,\u001b[0m \u001b[0my_score\u001b[0m\u001b[0;34m,\u001b[0m \u001b[0msample_weight\u001b[0m\u001b[0;34m)\u001b[0m\u001b[0;34m\u001b[0m\u001b[0;34m\u001b[0m\u001b[0m\n\u001b[1;32m    694\u001b[0m     \u001b[0my_true\u001b[0m \u001b[0;34m=\u001b[0m \u001b[0mcolumn_or_1d\u001b[0m\u001b[0;34m(\u001b[0m\u001b[0my_true\u001b[0m\u001b[0;34m)\u001b[0m\u001b[0;34m\u001b[0m\u001b[0;34m\u001b[0m\u001b[0m\n\u001b[0;32m--> 695\u001b[0;31m     \u001b[0my_score\u001b[0m \u001b[0;34m=\u001b[0m \u001b[0mcolumn_or_1d\u001b[0m\u001b[0;34m(\u001b[0m\u001b[0my_score\u001b[0m\u001b[0;34m)\u001b[0m\u001b[0;34m\u001b[0m\u001b[0;34m\u001b[0m\u001b[0m\n\u001b[0m\u001b[1;32m    696\u001b[0m     \u001b[0massert_all_finite\u001b[0m\u001b[0;34m(\u001b[0m\u001b[0my_true\u001b[0m\u001b[0;34m)\u001b[0m\u001b[0;34m\u001b[0m\u001b[0;34m\u001b[0m\u001b[0m\n\u001b[1;32m    697\u001b[0m     \u001b[0massert_all_finite\u001b[0m\u001b[0;34m(\u001b[0m\u001b[0my_score\u001b[0m\u001b[0;34m)\u001b[0m\u001b[0;34m\u001b[0m\u001b[0;34m\u001b[0m\u001b[0m\n",
      "\u001b[0;32m/opt/conda/lib/python3.7/site-packages/sklearn/utils/validation.py\u001b[0m in \u001b[0;36minner_f\u001b[0;34m(*args, **kwargs)\u001b[0m\n\u001b[1;32m     61\u001b[0m             \u001b[0mextra_args\u001b[0m \u001b[0;34m=\u001b[0m \u001b[0mlen\u001b[0m\u001b[0;34m(\u001b[0m\u001b[0margs\u001b[0m\u001b[0;34m)\u001b[0m \u001b[0;34m-\u001b[0m \u001b[0mlen\u001b[0m\u001b[0;34m(\u001b[0m\u001b[0mall_args\u001b[0m\u001b[0;34m)\u001b[0m\u001b[0;34m\u001b[0m\u001b[0;34m\u001b[0m\u001b[0m\n\u001b[1;32m     62\u001b[0m             \u001b[0;32mif\u001b[0m \u001b[0mextra_args\u001b[0m \u001b[0;34m<=\u001b[0m \u001b[0;36m0\u001b[0m\u001b[0;34m:\u001b[0m\u001b[0;34m\u001b[0m\u001b[0;34m\u001b[0m\u001b[0m\n\u001b[0;32m---> 63\u001b[0;31m                 \u001b[0;32mreturn\u001b[0m \u001b[0mf\u001b[0m\u001b[0;34m(\u001b[0m\u001b[0;34m*\u001b[0m\u001b[0margs\u001b[0m\u001b[0;34m,\u001b[0m \u001b[0;34m**\u001b[0m\u001b[0mkwargs\u001b[0m\u001b[0;34m)\u001b[0m\u001b[0;34m\u001b[0m\u001b[0;34m\u001b[0m\u001b[0m\n\u001b[0m\u001b[1;32m     64\u001b[0m \u001b[0;34m\u001b[0m\u001b[0m\n\u001b[1;32m     65\u001b[0m             \u001b[0;31m# extra_args > 0\u001b[0m\u001b[0;34m\u001b[0m\u001b[0;34m\u001b[0m\u001b[0;34m\u001b[0m\u001b[0m\n",
      "\u001b[0;32m/opt/conda/lib/python3.7/site-packages/sklearn/utils/validation.py\u001b[0m in \u001b[0;36mcolumn_or_1d\u001b[0;34m(y, warn)\u001b[0m\n\u001b[1;32m    921\u001b[0m     raise ValueError(\n\u001b[1;32m    922\u001b[0m         \u001b[0;34m\"y should be a 1d array, \"\u001b[0m\u001b[0;34m\u001b[0m\u001b[0;34m\u001b[0m\u001b[0m\n\u001b[0;32m--> 923\u001b[0;31m         \"got an array of shape {} instead.\".format(shape))\n\u001b[0m\u001b[1;32m    924\u001b[0m \u001b[0;34m\u001b[0m\u001b[0m\n\u001b[1;32m    925\u001b[0m \u001b[0;34m\u001b[0m\u001b[0m\n",
      "\u001b[0;31mValueError\u001b[0m: y should be a 1d array, got an array of shape (234874, 3) instead."
     ]
    }
   ],
   "source": [
    "from sklearn.metrics import roc_curve\n",
    "y_pred_prob = pipe.predict_proba(X_test)\n",
    "fpr , tpr, thresholds = roc_curve(y_test,y_pred_prob, pos_label='your_label')"
   ]
  },
  {
   "cell_type": "code",
   "execution_count": null,
   "id": "003aea00",
   "metadata": {},
   "outputs": [],
   "source": [
    "from sklearn.metrics import confusion_matrix\n",
    "\n",
    "print(confusion_matrix(y_test, y_pred))"
   ]
  },
  {
   "cell_type": "code",
   "execution_count": null,
   "id": "9171c98a",
   "metadata": {},
   "outputs": [],
   "source": [
    "data_mean, data_std  = X_train.mean(), X_train.std()\n",
    "data_z_scores = ((X_train - data_mean) / data_std).abs()\n",
    "maskz = data_z_scores < 3\n",
    "X_train = X_train.mask(~maskz)"
   ]
  }
 ],
 "metadata": {
  "environment": {
   "name": "common-cpu.m68",
   "type": "gcloud",
   "uri": "gcr.io/deeplearning-platform-release/base-cpu:m68"
  },
  "kernelspec": {
   "display_name": "Python 3",
   "language": "python",
   "name": "python3"
  },
  "language_info": {
   "codemirror_mode": {
    "name": "ipython",
    "version": 3
   },
   "file_extension": ".py",
   "mimetype": "text/x-python",
   "name": "python",
   "nbconvert_exporter": "python",
   "pygments_lexer": "ipython3",
   "version": "3.7.10"
  }
 },
 "nbformat": 4,
 "nbformat_minor": 5
}
