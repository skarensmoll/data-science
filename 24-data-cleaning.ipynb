{
 "cells": [
  {
   "cell_type": "code",
   "execution_count": 2,
   "id": "5676b405",
   "metadata": {},
   "outputs": [],
   "source": [
    "import pandas as pd"
   ]
  },
  {
   "cell_type": "markdown",
   "id": "275542d7",
   "metadata": {},
   "source": [
    "### Importing Ordes Data"
   ]
  },
  {
   "cell_type": "code",
   "execution_count": 3,
   "id": "11254470",
   "metadata": {},
   "outputs": [],
   "source": [
    "orders = pd.read_csv('./src/Ecommerce_Orders.csv', sep=';')"
   ]
  },
  {
   "cell_type": "code",
   "execution_count": 4,
   "id": "d594380c",
   "metadata": {},
   "outputs": [
    {
     "data": {
      "text/plain": [
       "(2237447, 19)"
      ]
     },
     "execution_count": 4,
     "metadata": {},
     "output_type": "execute_result"
    }
   ],
   "source": [
    "orders.shape"
   ]
  },
  {
   "cell_type": "markdown",
   "id": "068af0a4",
   "metadata": {},
   "source": [
    "### Importing Payments Data"
   ]
  },
  {
   "cell_type": "code",
   "execution_count": 5,
   "id": "217c4c96",
   "metadata": {},
   "outputs": [
    {
     "data": {
      "text/plain": [
       "(2237447, 19)"
      ]
     },
     "execution_count": 5,
     "metadata": {},
     "output_type": "execute_result"
    }
   ],
   "source": [
    "payments = pd.read_csv('./src/Ecommerce_Orders_Payment_States.csv', sep=';')\n",
    "orders.shape"
   ]
  },
  {
   "cell_type": "markdown",
   "id": "af036163",
   "metadata": {},
   "source": [
    "### Importing Status Data"
   ]
  },
  {
   "cell_type": "code",
   "execution_count": 6,
   "id": "0d1e749f",
   "metadata": {},
   "outputs": [],
   "source": [
    "d = {'ID': [1, 2, 3, 4, 5, 6, 7, 8, 9, 10, 11, 12, 13, 14, 15, 16], 'NAME': ['CANCELLED', 'CLOSED', 'PAID_FULL', 'CONTRACT_TERMINATION', 'INKASSO_CLOSED', 'PAID_OVER', 'INKASSO_PENDING','DUNNING_5','DUNNING_4', 'DUNNING_3', 'DUNNING_2', 'DUNNING_1', 'REMINDER_2', 'REMINDER_1', 'TRANSACTION_CREDIT_COLLECTION_IN_PROGRESS', 'CREATED']}\n",
    "payment_status = pd.DataFrame(data=d)"
   ]
  },
  {
   "cell_type": "markdown",
   "id": "fd749a13",
   "metadata": {},
   "source": [
    "### Merging Data"
   ]
  },
  {
   "cell_type": "code",
   "execution_count": 7,
   "id": "c172e619",
   "metadata": {},
   "outputs": [],
   "source": [
    "# merge data\n",
    "order_payments = orders.merge(payments, 'inner', 'ORDER_ID')"
   ]
  },
  {
   "cell_type": "code",
   "execution_count": 8,
   "id": "c6568354",
   "metadata": {},
   "outputs": [
    {
     "data": {
      "text/html": [
       "<div>\n",
       "<style scoped>\n",
       "    .dataframe tbody tr th:only-of-type {\n",
       "        vertical-align: middle;\n",
       "    }\n",
       "\n",
       "    .dataframe tbody tr th {\n",
       "        vertical-align: top;\n",
       "    }\n",
       "\n",
       "    .dataframe thead th {\n",
       "        text-align: right;\n",
       "    }\n",
       "</style>\n",
       "<table border=\"1\" class=\"dataframe\">\n",
       "  <thead>\n",
       "    <tr style=\"text-align: right;\">\n",
       "      <th></th>\n",
       "      <th>ORDER_ID</th>\n",
       "      <th>ORDER_DATE</th>\n",
       "      <th>CUSTOMER_ID</th>\n",
       "      <th>SHOP</th>\n",
       "      <th>CART_VALUE</th>\n",
       "      <th>NR_ITEMS</th>\n",
       "      <th>NR_ITEMS_UNIQUE</th>\n",
       "      <th>GENDER</th>\n",
       "      <th>AGE</th>\n",
       "      <th>STREET</th>\n",
       "      <th>...</th>\n",
       "      <th>CITY</th>\n",
       "      <th>STREET_ID</th>\n",
       "      <th>KNOWN_STREET</th>\n",
       "      <th>KNOWN_HOUSE</th>\n",
       "      <th>PHONE_TYPE</th>\n",
       "      <th>PHONE_PROVIDER</th>\n",
       "      <th>PHONE_QUALITY</th>\n",
       "      <th>MAIL_DOMAIN</th>\n",
       "      <th>PAYMENT_INFO</th>\n",
       "      <th>PAYMENT_DATE</th>\n",
       "    </tr>\n",
       "  </thead>\n",
       "  <tbody>\n",
       "    <tr>\n",
       "      <th>0</th>\n",
       "      <td>9890976</td>\n",
       "      <td>2013-11-01</td>\n",
       "      <td>3047181</td>\n",
       "      <td>Food</td>\n",
       "      <td>10.65</td>\n",
       "      <td>3.0</td>\n",
       "      <td>3.0</td>\n",
       "      <td>m</td>\n",
       "      <td>23.0</td>\n",
       "      <td>Repsoldstr.</td>\n",
       "      <td>...</td>\n",
       "      <td>Hamburg</td>\n",
       "      <td>2.000000e+11</td>\n",
       "      <td>X</td>\n",
       "      <td>X</td>\n",
       "      <td>mobile</td>\n",
       "      <td>Telefonica</td>\n",
       "      <td>good</td>\n",
       "      <td>gmx.de</td>\n",
       "      <td>INKASSO_CLOSED</td>\n",
       "      <td>2018-06-19</td>\n",
       "    </tr>\n",
       "    <tr>\n",
       "      <th>1</th>\n",
       "      <td>9970836</td>\n",
       "      <td>2013-11-04</td>\n",
       "      <td>3245247</td>\n",
       "      <td>Shoes</td>\n",
       "      <td>69.88</td>\n",
       "      <td>2.0</td>\n",
       "      <td>2.0</td>\n",
       "      <td>f</td>\n",
       "      <td>36.0</td>\n",
       "      <td>Winkelmannshof</td>\n",
       "      <td>...</td>\n",
       "      <td>Gelsenkirchen</td>\n",
       "      <td>5.513000e+11</td>\n",
       "      <td>X</td>\n",
       "      <td>X</td>\n",
       "      <td>mobile</td>\n",
       "      <td>Telefonica</td>\n",
       "      <td>good</td>\n",
       "      <td>web.de</td>\n",
       "      <td>INKASSO_CLOSED</td>\n",
       "      <td>2018-06-19</td>\n",
       "    </tr>\n",
       "    <tr>\n",
       "      <th>2</th>\n",
       "      <td>10001535</td>\n",
       "      <td>2013-11-05</td>\n",
       "      <td>3251911</td>\n",
       "      <td>Furniture</td>\n",
       "      <td>43.00</td>\n",
       "      <td>1.0</td>\n",
       "      <td>1.0</td>\n",
       "      <td>u</td>\n",
       "      <td>39.0</td>\n",
       "      <td>Bahnhofstr.</td>\n",
       "      <td>...</td>\n",
       "      <td>Bad Orb</td>\n",
       "      <td>6.435001e+11</td>\n",
       "      <td>X</td>\n",
       "      <td>X</td>\n",
       "      <td>landline</td>\n",
       "      <td>NaN</td>\n",
       "      <td>NaN</td>\n",
       "      <td>t-online.de</td>\n",
       "      <td>INKASSO_CLOSED</td>\n",
       "      <td>2018-06-19</td>\n",
       "    </tr>\n",
       "    <tr>\n",
       "      <th>3</th>\n",
       "      <td>10011168</td>\n",
       "      <td>2013-11-05</td>\n",
       "      <td>3254519</td>\n",
       "      <td>DIY Superstore &amp; Tools</td>\n",
       "      <td>378.39</td>\n",
       "      <td>6.0</td>\n",
       "      <td>6.0</td>\n",
       "      <td>m</td>\n",
       "      <td>24.0</td>\n",
       "      <td>Alte Bahnhofstr.</td>\n",
       "      <td>...</td>\n",
       "      <td>Bad Liebenstein</td>\n",
       "      <td>1.606310e+12</td>\n",
       "      <td>X</td>\n",
       "      <td>X</td>\n",
       "      <td>mobile</td>\n",
       "      <td>Telekom</td>\n",
       "      <td>good</td>\n",
       "      <td>googlemail.com</td>\n",
       "      <td>INKASSO_CLOSED</td>\n",
       "      <td>2018-06-19</td>\n",
       "    </tr>\n",
       "    <tr>\n",
       "      <th>4</th>\n",
       "      <td>10014162</td>\n",
       "      <td>2013-11-05</td>\n",
       "      <td>3255540</td>\n",
       "      <td>Food</td>\n",
       "      <td>8.25</td>\n",
       "      <td>2.0</td>\n",
       "      <td>2.0</td>\n",
       "      <td>m</td>\n",
       "      <td>21.0</td>\n",
       "      <td>Am Hörsterfriedhof</td>\n",
       "      <td>...</td>\n",
       "      <td>Münster, Westf</td>\n",
       "      <td>5.515000e+11</td>\n",
       "      <td>X</td>\n",
       "      <td>X</td>\n",
       "      <td>mobile</td>\n",
       "      <td>Telefonica</td>\n",
       "      <td>good</td>\n",
       "      <td>hotmail.com</td>\n",
       "      <td>INKASSO_CLOSED</td>\n",
       "      <td>2018-06-19</td>\n",
       "    </tr>\n",
       "  </tbody>\n",
       "</table>\n",
       "<p>5 rows × 21 columns</p>\n",
       "</div>"
      ],
      "text/plain": [
       "   ORDER_ID  ORDER_DATE  CUSTOMER_ID                    SHOP  CART_VALUE  \\\n",
       "0   9890976  2013-11-01      3047181                    Food       10.65   \n",
       "1   9970836  2013-11-04      3245247                   Shoes       69.88   \n",
       "2  10001535  2013-11-05      3251911               Furniture       43.00   \n",
       "3  10011168  2013-11-05      3254519  DIY Superstore & Tools      378.39   \n",
       "4  10014162  2013-11-05      3255540                    Food        8.25   \n",
       "\n",
       "   NR_ITEMS  NR_ITEMS_UNIQUE GENDER   AGE              STREET  ...  \\\n",
       "0       3.0              3.0      m  23.0         Repsoldstr.  ...   \n",
       "1       2.0              2.0      f  36.0      Winkelmannshof  ...   \n",
       "2       1.0              1.0      u  39.0         Bahnhofstr.  ...   \n",
       "3       6.0              6.0      m  24.0    Alte Bahnhofstr.  ...   \n",
       "4       2.0              2.0      m  21.0  Am Hörsterfriedhof  ...   \n",
       "\n",
       "              CITY     STREET_ID  KNOWN_STREET KNOWN_HOUSE PHONE_TYPE  \\\n",
       "0          Hamburg  2.000000e+11             X           X     mobile   \n",
       "1    Gelsenkirchen  5.513000e+11             X           X     mobile   \n",
       "2          Bad Orb  6.435001e+11             X           X   landline   \n",
       "3  Bad Liebenstein  1.606310e+12             X           X     mobile   \n",
       "4   Münster, Westf  5.515000e+11             X           X     mobile   \n",
       "\n",
       "  PHONE_PROVIDER PHONE_QUALITY     MAIL_DOMAIN    PAYMENT_INFO PAYMENT_DATE  \n",
       "0     Telefonica          good          gmx.de  INKASSO_CLOSED   2018-06-19  \n",
       "1     Telefonica          good          web.de  INKASSO_CLOSED   2018-06-19  \n",
       "2            NaN           NaN     t-online.de  INKASSO_CLOSED   2018-06-19  \n",
       "3        Telekom          good  googlemail.com  INKASSO_CLOSED   2018-06-19  \n",
       "4     Telefonica          good     hotmail.com  INKASSO_CLOSED   2018-06-19  \n",
       "\n",
       "[5 rows x 21 columns]"
      ]
     },
     "execution_count": 8,
     "metadata": {},
     "output_type": "execute_result"
    }
   ],
   "source": [
    "order_payments.head()"
   ]
  },
  {
   "cell_type": "markdown",
   "id": "9924cff4",
   "metadata": {},
   "source": [
    "### Out of range Data"
   ]
  },
  {
   "cell_type": "code",
   "execution_count": 9,
   "id": "b05e55fd",
   "metadata": {},
   "outputs": [],
   "source": [
    "### DROPPING ITEMS WITH CATEGORIES NOT NEEDED\n",
    "order_payments.drop(order_payments.PAYMENT_INFO.loc[lambda x : (x == 'DEARM_PENDING') | (x == 'DIRECT_DEBIT_PENDING')].index, inplace=True) "
   ]
  },
  {
   "cell_type": "code",
   "execution_count": 10,
   "id": "0d76ccdc",
   "metadata": {},
   "outputs": [],
   "source": [
    "## DROPPING NR_ITEMS with value of 0\n",
    "order_payments.drop(order_payments.loc[order_payments['NR_ITEMS'] == 0].index, inplace=True) "
   ]
  },
  {
   "cell_type": "code",
   "execution_count": 11,
   "id": "8b4b124b",
   "metadata": {
    "collapsed": true,
    "jupyter": {
     "outputs_hidden": true
    }
   },
   "outputs": [
    {
     "data": {
      "text/plain": [
       "ORDER_ID           5452391\n",
       "ORDER_DATE         5452391\n",
       "CUSTOMER_ID        5452391\n",
       "SHOP               5452391\n",
       "CART_VALUE         5452385\n",
       "NR_ITEMS           5439812\n",
       "NR_ITEMS_UNIQUE    5439812\n",
       "GENDER             5452391\n",
       "AGE                4976215\n",
       "STREET             5452377\n",
       "ZIP                5452391\n",
       "CITY               5452391\n",
       "STREET_ID          5431045\n",
       "KNOWN_STREET       5431045\n",
       "KNOWN_HOUSE        5274414\n",
       "PHONE_TYPE         3161573\n",
       "PHONE_PROVIDER     1173190\n",
       "PHONE_QUALITY      1173190\n",
       "MAIL_DOMAIN        4545840\n",
       "PAYMENT_INFO       5452391\n",
       "PAYMENT_DATE       5451262\n",
       "dtype: int64"
      ]
     },
     "execution_count": 11,
     "metadata": {},
     "output_type": "execute_result"
    }
   ],
   "source": [
    "order_payments.count()"
   ]
  },
  {
   "cell_type": "code",
   "execution_count": 12,
   "id": "c855389e",
   "metadata": {},
   "outputs": [],
   "source": [
    "## IMPUTING DATA FOR NR_ITEMS MINOR THAN 0"
   ]
  },
  {
   "cell_type": "code",
   "execution_count": 13,
   "id": "e02f64fd",
   "metadata": {},
   "outputs": [
    {
     "data": {
      "text/plain": [
       "1966269    1.0\n",
       "1966270    1.0\n",
       "1981366    1.0\n",
       "1981367    1.0\n",
       "1981368    1.0\n",
       "          ... \n",
       "1999822    3.0\n",
       "2000201    4.0\n",
       "2000202    4.0\n",
       "2000203    4.0\n",
       "2000204    4.0\n",
       "Name: NR_ITEMS, Length: 135, dtype: float64"
      ]
     },
     "execution_count": 13,
     "metadata": {},
     "output_type": "execute_result"
    }
   ],
   "source": [
    "order_payments['NR_ITEMS'].loc[order_payments['NR_ITEMS'] < 0] * -1\n"
   ]
  },
  {
   "cell_type": "code",
   "execution_count": 14,
   "id": "c2b420fb",
   "metadata": {},
   "outputs": [],
   "source": [
    "order_payments['NR_ITEMS'] = order_payments['NR_ITEMS'].apply(lambda x: x * -1 if x < 0 else x)"
   ]
  },
  {
   "cell_type": "code",
   "execution_count": 15,
   "id": "93774712",
   "metadata": {},
   "outputs": [
    {
     "name": "stdout",
     "output_type": "stream",
     "text": [
      "<class 'pandas.core.frame.DataFrame'>\n",
      "Int64Index: 5452391 entries, 0 to 5483738\n",
      "Data columns (total 21 columns):\n",
      " #   Column           Dtype  \n",
      "---  ------           -----  \n",
      " 0   ORDER_ID         int64  \n",
      " 1   ORDER_DATE       object \n",
      " 2   CUSTOMER_ID      int64  \n",
      " 3   SHOP             object \n",
      " 4   CART_VALUE       float64\n",
      " 5   NR_ITEMS         float64\n",
      " 6   NR_ITEMS_UNIQUE  float64\n",
      " 7   GENDER           object \n",
      " 8   AGE              float64\n",
      " 9   STREET           object \n",
      " 10  ZIP              int64  \n",
      " 11  CITY             object \n",
      " 12  STREET_ID        float64\n",
      " 13  KNOWN_STREET     object \n",
      " 14  KNOWN_HOUSE      object \n",
      " 15  PHONE_TYPE       object \n",
      " 16  PHONE_PROVIDER   object \n",
      " 17  PHONE_QUALITY    object \n",
      " 18  MAIL_DOMAIN      object \n",
      " 19  PAYMENT_INFO     object \n",
      " 20  PAYMENT_DATE     object \n",
      "dtypes: float64(5), int64(3), object(13)\n",
      "memory usage: 915.2+ MB\n"
     ]
    }
   ],
   "source": [
    "order_payments.info()"
   ]
  },
  {
   "cell_type": "code",
   "execution_count": 16,
   "id": "2907bf38",
   "metadata": {},
   "outputs": [
    {
     "data": {
      "text/plain": [
       "array(['m', 'f', 'u'], dtype=object)"
      ]
     },
     "execution_count": 16,
     "metadata": {},
     "output_type": "execute_result"
    }
   ],
   "source": [
    "order_payments.GENDER.unique()"
   ]
  },
  {
   "cell_type": "code",
   "execution_count": 17,
   "id": "bc81a37d",
   "metadata": {},
   "outputs": [
    {
     "data": {
      "text/plain": [
       "array(['mobile', 'landline', nan], dtype=object)"
      ]
     },
     "execution_count": 17,
     "metadata": {},
     "output_type": "execute_result"
    }
   ],
   "source": [
    "order_payments.PHONE_TYPE.unique()"
   ]
  },
  {
   "cell_type": "code",
   "execution_count": 18,
   "id": "05f0baef",
   "metadata": {},
   "outputs": [
    {
     "data": {
      "text/plain": [
       "5452391"
      ]
     },
     "execution_count": 18,
     "metadata": {},
     "output_type": "execute_result"
    }
   ],
   "source": [
    "order_payments.PHONE_TYPE.isnull().count()"
   ]
  },
  {
   "cell_type": "code",
   "execution_count": 19,
   "id": "d1616e2a",
   "metadata": {
    "collapsed": true,
    "jupyter": {
     "outputs_hidden": true
    }
   },
   "outputs": [
    {
     "name": "stdout",
     "output_type": "stream",
     "text": [
      "<class 'pandas.core.frame.DataFrame'>\n",
      "Int64Index: 5452391 entries, 0 to 5483738\n",
      "Data columns (total 21 columns):\n",
      " #   Column           Dtype  \n",
      "---  ------           -----  \n",
      " 0   ORDER_ID         int64  \n",
      " 1   ORDER_DATE       object \n",
      " 2   CUSTOMER_ID      int64  \n",
      " 3   SHOP             object \n",
      " 4   CART_VALUE       float64\n",
      " 5   NR_ITEMS         float64\n",
      " 6   NR_ITEMS_UNIQUE  float64\n",
      " 7   GENDER           object \n",
      " 8   AGE              float64\n",
      " 9   STREET           object \n",
      " 10  ZIP              int64  \n",
      " 11  CITY             object \n",
      " 12  STREET_ID        float64\n",
      " 13  KNOWN_STREET     object \n",
      " 14  KNOWN_HOUSE      object \n",
      " 15  PHONE_TYPE       object \n",
      " 16  PHONE_PROVIDER   object \n",
      " 17  PHONE_QUALITY    object \n",
      " 18  MAIL_DOMAIN      object \n",
      " 19  PAYMENT_INFO     object \n",
      " 20  PAYMENT_DATE     object \n",
      "dtypes: float64(5), int64(3), object(13)\n",
      "memory usage: 915.2+ MB\n"
     ]
    }
   ],
   "source": [
    "order_payments.info()"
   ]
  },
  {
   "cell_type": "code",
   "execution_count": 20,
   "id": "61c49344",
   "metadata": {},
   "outputs": [
    {
     "data": {
      "text/plain": [
       "<AxesSubplot:>"
      ]
     },
     "execution_count": 20,
     "metadata": {},
     "output_type": "execute_result"
    },
    {
     "data": {
      "image/png": "[encoded data removed]",
      "text/plain": [
       "<Figure size 640x480 with 1 Axes>"
      ]
     },
     "metadata": {},
     "output_type": "display_data"
    }
   ],
   "source": [
    "#Changing age to Integer\n",
    "order_payments.AGE.hist()"
   ]
  },
  {
   "cell_type": "code",
   "execution_count": 21,
   "id": "cd25fe9b",
   "metadata": {},
   "outputs": [],
   "source": [
    "order_payments.PAYMENT_DATE = pd.to_datetime(order_payments.PAYMENT_DATE)"
   ]
  },
  {
   "cell_type": "code",
   "execution_count": 22,
   "id": "bfcffbeb",
   "metadata": {},
   "outputs": [
    {
     "data": {
      "text/plain": [
       "0         2018-06-19\n",
       "1         2018-06-19\n",
       "2         2018-06-19\n",
       "3         2018-06-19\n",
       "4         2018-06-19\n",
       "             ...    \n",
       "5483734   2021-03-22\n",
       "5483735   2021-03-22\n",
       "5483736   2021-03-22\n",
       "5483737   2021-03-22\n",
       "5483738   2021-03-22\n",
       "Name: PAYMENT_DATE, Length: 5452391, dtype: datetime64[ns]"
      ]
     },
     "execution_count": 22,
     "metadata": {},
     "output_type": "execute_result"
    }
   ],
   "source": [
    "order_payments.PAYMENT_DATE"
   ]
  },
  {
   "cell_type": "markdown",
   "id": "c81b51f3",
   "metadata": {},
   "source": [
    "### Changing Objects to categorical types\n"
   ]
  },
  {
   "cell_type": "code",
   "execution_count": 23,
   "id": "420d50d7",
   "metadata": {},
   "outputs": [
    {
     "name": "stdout",
     "output_type": "stream",
     "text": [
      "<class 'pandas.core.frame.DataFrame'>\n",
      "Int64Index: 5452391 entries, 0 to 5483738\n",
      "Data columns (total 21 columns):\n",
      " #   Column           Dtype         \n",
      "---  ------           -----         \n",
      " 0   ORDER_ID         int64         \n",
      " 1   ORDER_DATE       object        \n",
      " 2   CUSTOMER_ID      int64         \n",
      " 3   SHOP             object        \n",
      " 4   CART_VALUE       float64       \n",
      " 5   NR_ITEMS         float64       \n",
      " 6   NR_ITEMS_UNIQUE  float64       \n",
      " 7   GENDER           object        \n",
      " 8   AGE              float64       \n",
      " 9   STREET           object        \n",
      " 10  ZIP              int64         \n",
      " 11  CITY             object        \n",
      " 12  STREET_ID        float64       \n",
      " 13  KNOWN_STREET     object        \n",
      " 14  KNOWN_HOUSE      object        \n",
      " 15  PHONE_TYPE       object        \n",
      " 16  PHONE_PROVIDER   object        \n",
      " 17  PHONE_QUALITY    object        \n",
      " 18  MAIL_DOMAIN      object        \n",
      " 19  PAYMENT_INFO     object        \n",
      " 20  PAYMENT_DATE     datetime64[ns]\n",
      "dtypes: datetime64[ns](1), float64(5), int64(3), object(12)\n",
      "memory usage: 915.2+ MB\n"
     ]
    }
   ],
   "source": [
    "## Changing Object types to categorical types\n",
    "order_payments.info()"
   ]
  },
  {
   "cell_type": "code",
   "execution_count": 24,
   "id": "fb105eb1",
   "metadata": {},
   "outputs": [],
   "source": [
    "order_payments['GENDER'] = order_payments['GENDER'].astype('category')\n",
    "assert order_payments['GENDER'].dtype == 'category'"
   ]
  },
  {
   "cell_type": "code",
   "execution_count": 25,
   "id": "e5a06aff",
   "metadata": {},
   "outputs": [],
   "source": [
    "order_payments['PAYMENT_INFO'] = order_payments['PAYMENT_INFO'].astype('category')\n",
    "assert order_payments['PAYMENT_INFO'].dtype == 'category'"
   ]
  },
  {
   "cell_type": "code",
   "execution_count": 26,
   "id": "f96885bb",
   "metadata": {},
   "outputs": [],
   "source": [
    "order_payments['PHONE_TYPE'] = order_payments['PHONE_TYPE'].astype('category')\n",
    "assert order_payments['PHONE_TYPE'].dtype == 'category'"
   ]
  },
  {
   "cell_type": "code",
   "execution_count": 40,
   "id": "49fe77ab",
   "metadata": {},
   "outputs": [],
   "source": [
    "order_payments['SHOP'] = order_payments['SHOP'].astype('category')\n",
    "assert order_payments['SHOP'].dtype == 'category'"
   ]
  },
  {
   "cell_type": "code",
   "execution_count": null,
   "id": "92b1b9e5",
   "metadata": {},
   "outputs": [],
   "source": [
    "order_payments['PHONE_QUALITY'] = order_payments['PHONE_QUALITY'].astype('category')\n",
    "assert order_payments['PHONE_QUALITY'].dtype == 'category'"
   ]
  },
  {
   "cell_type": "code",
   "execution_count": 70,
   "id": "8eb9d97c",
   "metadata": {},
   "outputs": [
    {
     "data": {
      "text/plain": [
       "True"
      ]
     },
     "execution_count": 70,
     "metadata": {},
     "output_type": "execute_result"
    }
   ],
   "source": [
    "order_payments['PHONE_PROVIDER'] = order_payments['PHONE_PROVIDER'].astype('category')\n",
    "assert order_payments['PHONE_PROVIDER'].dtype == 'category'"
   ]
  },
  {
   "cell_type": "code",
   "execution_count": 27,
   "id": "501a277d",
   "metadata": {},
   "outputs": [
    {
     "data": {
      "text/plain": [
       "['INKASSO_CLOSED', 'PAID_OVER', 'PAID_FULL', 'CLOSED', 'INKASSO_PENDING', ..., 'REMINDER_1', 'DUNNING_1', 'REMINDER_2', 'DUNNING_4', 'DUNNING_5']\n",
       "Length: 16\n",
       "Categories (16, object): ['INKASSO_CLOSED', 'PAID_OVER', 'PAID_FULL', 'CLOSED', ..., 'DUNNING_1', 'REMINDER_2', 'DUNNING_4', 'DUNNING_5']"
      ]
     },
     "execution_count": 27,
     "metadata": {},
     "output_type": "execute_result"
    }
   ],
   "source": [
    "order_payments['PAYMENT_INFO'].unique()"
   ]
  },
  {
   "cell_type": "code",
   "execution_count": 28,
   "id": "30dac483",
   "metadata": {},
   "outputs": [
    {
     "data": {
      "text/plain": [
       "0"
      ]
     },
     "execution_count": 28,
     "metadata": {},
     "output_type": "execute_result"
    }
   ],
   "source": [
    "### Dropping Categories not needed\n",
    "order_payments['PAYMENT_INFO'][order_payments['PAYMENT_INFO'] == 'DIRECT_DEBIT_PENDING'].count()\n",
    "order_payments['PAYMENT_INFO'][order_payments['PAYMENT_INFO'] == 'DEARM_PENDING'].count()"
   ]
  },
  {
   "cell_type": "markdown",
   "id": "48630db8",
   "metadata": {},
   "source": [
    "### Changing Dates to DateTime types"
   ]
  },
  {
   "cell_type": "code",
   "execution_count": 29,
   "id": "d1628849",
   "metadata": {},
   "outputs": [],
   "source": [
    "order_payments.PAYMENT_DATE = pd.to_datetime(order_payments.PAYMENT_DATE)"
   ]
  },
  {
   "cell_type": "code",
   "execution_count": null,
   "id": "8dc50b31",
   "metadata": {},
   "outputs": [],
   "source": []
  },
  {
   "cell_type": "markdown",
   "id": "5d427886",
   "metadata": {},
   "source": [
    "### Checking for duplicates"
   ]
  },
  {
   "cell_type": "code",
   "execution_count": 30,
   "id": "f86a1ec7",
   "metadata": {},
   "outputs": [],
   "source": [
    "duplicates = order_payments.duplicated(subset=['ORDER_ID', 'CUSTOMER_ID', 'PAYMENT_DATE'], keep=False)\n"
   ]
  },
  {
   "cell_type": "code",
   "execution_count": 31,
   "id": "a286155a",
   "metadata": {},
   "outputs": [
    {
     "data": {
      "text/plain": [
       "9089       True\n",
       "9090       True\n",
       "11238      True\n",
       "11239      True\n",
       "16879      True\n",
       "           ... \n",
       "5479226    True\n",
       "5480018    True\n",
       "5480019    True\n",
       "5480524    True\n",
       "5480525    True\n",
       "Length: 10902, dtype: bool"
      ]
     },
     "execution_count": 31,
     "metadata": {},
     "output_type": "execute_result"
    }
   ],
   "source": [
    "duplicates.loc[lambda x: x == True]"
   ]
  },
  {
   "cell_type": "code",
   "execution_count": 32,
   "id": "c3d9eda4",
   "metadata": {},
   "outputs": [
    {
     "data": {
      "text/html": [
       "<div>\n",
       "<style scoped>\n",
       "    .dataframe tbody tr th:only-of-type {\n",
       "        vertical-align: middle;\n",
       "    }\n",
       "\n",
       "    .dataframe tbody tr th {\n",
       "        vertical-align: top;\n",
       "    }\n",
       "\n",
       "    .dataframe thead th {\n",
       "        text-align: right;\n",
       "    }\n",
       "</style>\n",
       "<table border=\"1\" class=\"dataframe\">\n",
       "  <thead>\n",
       "    <tr style=\"text-align: right;\">\n",
       "      <th></th>\n",
       "      <th>ORDER_ID</th>\n",
       "      <th>ORDER_DATE</th>\n",
       "      <th>CUSTOMER_ID</th>\n",
       "      <th>SHOP</th>\n",
       "      <th>CART_VALUE</th>\n",
       "      <th>NR_ITEMS</th>\n",
       "      <th>NR_ITEMS_UNIQUE</th>\n",
       "      <th>GENDER</th>\n",
       "      <th>AGE</th>\n",
       "      <th>STREET</th>\n",
       "      <th>...</th>\n",
       "      <th>CITY</th>\n",
       "      <th>STREET_ID</th>\n",
       "      <th>KNOWN_STREET</th>\n",
       "      <th>KNOWN_HOUSE</th>\n",
       "      <th>PHONE_TYPE</th>\n",
       "      <th>PHONE_PROVIDER</th>\n",
       "      <th>PHONE_QUALITY</th>\n",
       "      <th>MAIL_DOMAIN</th>\n",
       "      <th>PAYMENT_INFO</th>\n",
       "      <th>PAYMENT_DATE</th>\n",
       "    </tr>\n",
       "  </thead>\n",
       "  <tbody>\n",
       "    <tr>\n",
       "      <th>11238</th>\n",
       "      <td>82760057</td>\n",
       "      <td>2016-11-21</td>\n",
       "      <td>2976761</td>\n",
       "      <td>Media</td>\n",
       "      <td>83.26</td>\n",
       "      <td>5.0</td>\n",
       "      <td>5.0</td>\n",
       "      <td>f</td>\n",
       "      <td>57.0</td>\n",
       "      <td>Masche</td>\n",
       "      <td>...</td>\n",
       "      <td>Haldensleben</td>\n",
       "      <td>1.508327e+12</td>\n",
       "      <td>X</td>\n",
       "      <td>X</td>\n",
       "      <td>landline</td>\n",
       "      <td>NaN</td>\n",
       "      <td>NaN</td>\n",
       "      <td>gmx.de</td>\n",
       "      <td>PAID_FULL</td>\n",
       "      <td>2016-12-07</td>\n",
       "    </tr>\n",
       "    <tr>\n",
       "      <th>11239</th>\n",
       "      <td>82760057</td>\n",
       "      <td>2016-11-21</td>\n",
       "      <td>2976761</td>\n",
       "      <td>Media</td>\n",
       "      <td>83.26</td>\n",
       "      <td>5.0</td>\n",
       "      <td>5.0</td>\n",
       "      <td>f</td>\n",
       "      <td>57.0</td>\n",
       "      <td>Masche</td>\n",
       "      <td>...</td>\n",
       "      <td>Haldensleben</td>\n",
       "      <td>1.508327e+12</td>\n",
       "      <td>X</td>\n",
       "      <td>X</td>\n",
       "      <td>landline</td>\n",
       "      <td>NaN</td>\n",
       "      <td>NaN</td>\n",
       "      <td>gmx.de</td>\n",
       "      <td>PAID_OVER</td>\n",
       "      <td>2016-12-07</td>\n",
       "    </tr>\n",
       "  </tbody>\n",
       "</table>\n",
       "<p>2 rows × 21 columns</p>\n",
       "</div>"
      ],
      "text/plain": [
       "       ORDER_ID  ORDER_DATE  CUSTOMER_ID   SHOP  CART_VALUE  NR_ITEMS  \\\n",
       "11238  82760057  2016-11-21      2976761  Media       83.26       5.0   \n",
       "11239  82760057  2016-11-21      2976761  Media       83.26       5.0   \n",
       "\n",
       "       NR_ITEMS_UNIQUE GENDER   AGE  STREET  ...          CITY     STREET_ID  \\\n",
       "11238              5.0      f  57.0  Masche  ...  Haldensleben  1.508327e+12   \n",
       "11239              5.0      f  57.0  Masche  ...  Haldensleben  1.508327e+12   \n",
       "\n",
       "       KNOWN_STREET KNOWN_HOUSE PHONE_TYPE PHONE_PROVIDER PHONE_QUALITY  \\\n",
       "11238             X           X   landline            NaN           NaN   \n",
       "11239             X           X   landline            NaN           NaN   \n",
       "\n",
       "      MAIL_DOMAIN PAYMENT_INFO PAYMENT_DATE  \n",
       "11238      gmx.de    PAID_FULL   2016-12-07  \n",
       "11239      gmx.de    PAID_OVER   2016-12-07  \n",
       "\n",
       "[2 rows x 21 columns]"
      ]
     },
     "execution_count": 32,
     "metadata": {},
     "output_type": "execute_result"
    }
   ],
   "source": [
    "order_payments.loc[lambda x: x.ORDER_ID ==82760057 ]"
   ]
  },
  {
   "cell_type": "markdown",
   "id": "7c7bdf83",
   "metadata": {},
   "source": [
    "### Categorical Data"
   ]
  },
  {
   "cell_type": "code",
   "execution_count": 33,
   "id": "b4c27230",
   "metadata": {},
   "outputs": [
    {
     "data": {
      "image/png": "[encoded data removed]",
      "text/plain": [
       "<Figure size 640x480 with 1 Axes>"
      ]
     },
     "metadata": {},
     "output_type": "display_data"
    }
   ],
   "source": [
    "order_payments['PAYMENT_INFO'].value_counts().plot.barh();"
   ]
  },
  {
   "cell_type": "code",
   "execution_count": null,
   "id": "3b2edf99",
   "metadata": {},
   "outputs": [],
   "source": [
    "?plot"
   ]
  },
  {
   "cell_type": "code",
   "execution_count": 45,
   "id": "a60cd7c6",
   "metadata": {},
   "outputs": [
    {
     "data": {
      "text/plain": [
       "<AxesSubplot:>"
      ]
     },
     "execution_count": 45,
     "metadata": {},
     "output_type": "execute_result"
    },
    {
     "data": {
      "image/png": "[encoded data removed]",
      "text/plain": [
       "<Figure size 640x480 with 1 Axes>"
      ]
     },
     "metadata": {},
     "output_type": "display_data"
    }
   ],
   "source": [
    "order_payments['SHOP'].value_counts().plot.barh()"
   ]
  },
  {
   "cell_type": "code",
   "execution_count": null,
   "id": "7b61451e",
   "metadata": {},
   "outputs": [],
   "source": []
  }
 ],
 "metadata": {
  "environment": {
   "name": "common-cpu.m68",
   "type": "gcloud",
   "uri": "gcr.io/deeplearning-platform-release/base-cpu:m68"
  },
  "kernelspec": {
   "display_name": "Python 3",
   "language": "python",
   "name": "python3"
  },
  "language_info": {
   "codemirror_mode": {
    "name": "ipython",
    "version": 3
   },
   "file_extension": ".py",
   "mimetype": "text/x-python",
   "name": "python",
   "nbconvert_exporter": "python",
   "pygments_lexer": "ipython3",
   "version": "3.7.10"
  }
 },
 "nbformat": 4,
 "nbformat_minor": 5
}
